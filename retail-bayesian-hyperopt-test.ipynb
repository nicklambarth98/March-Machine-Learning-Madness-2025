{
 "cells": [
  {
   "cell_type": "code",
   "execution_count": 1,
   "id": "21f1d943",
   "metadata": {
    "_cell_guid": "b1076dfc-b9ad-4769-8c92-a6c4dae69d19",
    "_uuid": "8f2839f25d086af736a60e9eeb907d3b93b6e0e5",
    "execution": {
     "iopub.execute_input": "2025-05-12T09:37:14.166507Z",
     "iopub.status.busy": "2025-05-12T09:37:14.166229Z",
     "iopub.status.idle": "2025-05-12T09:37:23.376407Z",
     "shell.execute_reply": "2025-05-12T09:37:23.375419Z"
    },
    "papermill": {
     "duration": 9.21601,
     "end_time": "2025-05-12T09:37:23.377751",
     "exception": false,
     "start_time": "2025-05-12T09:37:14.161741",
     "status": "completed"
    },
    "tags": []
   },
   "outputs": [
    {
     "name": "stdout",
     "output_type": "stream",
     "text": [
      "/kaggle/input/retail-transaction-dataset/Retail_Transaction_Dataset.csv\n"
     ]
    }
   ],
   "source": [
    "import numpy as np # linear algebra\n",
    "import pandas as pd # data processing, CSV file I/O (e.g. pd.read_csv)\n",
    "\n",
    "# Modelling\n",
    "from sklearn.model_selection import train_test_split, cross_val_score\n",
    "from sklearn.metrics import accuracy_score, roc_auc_score\n",
    "\n",
    "import lightgbm as lgb\n",
    "\n",
    "# Hyperparameter tuning\n",
    "from hyperopt import fmin, rand, tpe, space_eval, STATUS_OK, Trials, hp\n",
    "from hyperopt.pyll.stochastic import sample\n",
    "# from bayes_opt import BayesianOptimization\n",
    "# import optuna\n",
    "\n",
    "import os\n",
    "for dirname, _, filenames in os.walk('/kaggle/input'):\n",
    "    for filename in filenames:\n",
    "        print(os.path.join(dirname, filename))"
   ]
  },
  {
   "cell_type": "markdown",
   "id": "f5dacb83",
   "metadata": {
    "papermill": {
     "duration": 0.002373,
     "end_time": "2025-05-12T09:37:23.383187",
     "exception": false,
     "start_time": "2025-05-12T09:37:23.380814",
     "status": "completed"
    },
    "tags": []
   },
   "source": [
    "I will be creating a simple model to predict whether a customer would spend in month, and using bayesian hyperparameter optimisation and display improvements of the model using this.\n",
    "\n",
    "I will be predicting a 9 months and using the prior 3 months as training."
   ]
  },
  {
   "cell_type": "code",
   "execution_count": 2,
   "id": "d24d1395",
   "metadata": {
    "execution": {
     "iopub.execute_input": "2025-05-12T09:37:23.390198Z",
     "iopub.status.busy": "2025-05-12T09:37:23.389022Z",
     "iopub.status.idle": "2025-05-12T09:37:23.925846Z",
     "shell.execute_reply": "2025-05-12T09:37:23.924991Z"
    },
    "papermill": {
     "duration": 0.541501,
     "end_time": "2025-05-12T09:37:23.927160",
     "exception": false,
     "start_time": "2025-05-12T09:37:23.385659",
     "status": "completed"
    },
    "tags": []
   },
   "outputs": [
    {
     "data": {
      "text/html": [
       "<div>\n",
       "<style scoped>\n",
       "    .dataframe tbody tr th:only-of-type {\n",
       "        vertical-align: middle;\n",
       "    }\n",
       "\n",
       "    .dataframe tbody tr th {\n",
       "        vertical-align: top;\n",
       "    }\n",
       "\n",
       "    .dataframe thead th {\n",
       "        text-align: right;\n",
       "    }\n",
       "</style>\n",
       "<table border=\"1\" class=\"dataframe\">\n",
       "  <thead>\n",
       "    <tr style=\"text-align: right;\">\n",
       "      <th></th>\n",
       "      <th>CustomerID</th>\n",
       "      <th>ProductID</th>\n",
       "      <th>Quantity</th>\n",
       "      <th>Price</th>\n",
       "      <th>TransactionDate</th>\n",
       "      <th>PaymentMethod</th>\n",
       "      <th>StoreLocation</th>\n",
       "      <th>ProductCategory</th>\n",
       "      <th>DiscountApplied(%)</th>\n",
       "      <th>TotalAmount</th>\n",
       "    </tr>\n",
       "  </thead>\n",
       "  <tbody>\n",
       "    <tr>\n",
       "      <th>0</th>\n",
       "      <td>109318</td>\n",
       "      <td>C</td>\n",
       "      <td>7</td>\n",
       "      <td>80.079844</td>\n",
       "      <td>12/26/2023 12:32</td>\n",
       "      <td>Cash</td>\n",
       "      <td>176 Andrew Cliffs\\nBaileyfort, HI 93354</td>\n",
       "      <td>Books</td>\n",
       "      <td>18.677100</td>\n",
       "      <td>455.862764</td>\n",
       "    </tr>\n",
       "    <tr>\n",
       "      <th>1</th>\n",
       "      <td>993229</td>\n",
       "      <td>C</td>\n",
       "      <td>4</td>\n",
       "      <td>75.195229</td>\n",
       "      <td>8/5/2023 0:00</td>\n",
       "      <td>Cash</td>\n",
       "      <td>11635 William Well Suite 809\\nEast Kara, MT 19483</td>\n",
       "      <td>Home Decor</td>\n",
       "      <td>14.121365</td>\n",
       "      <td>258.306546</td>\n",
       "    </tr>\n",
       "    <tr>\n",
       "      <th>2</th>\n",
       "      <td>579675</td>\n",
       "      <td>A</td>\n",
       "      <td>8</td>\n",
       "      <td>31.528816</td>\n",
       "      <td>3/11/2024 18:51</td>\n",
       "      <td>Cash</td>\n",
       "      <td>910 Mendez Ville Suite 909\\nPort Lauraland, MO...</td>\n",
       "      <td>Books</td>\n",
       "      <td>15.943701</td>\n",
       "      <td>212.015651</td>\n",
       "    </tr>\n",
       "    <tr>\n",
       "      <th>3</th>\n",
       "      <td>799826</td>\n",
       "      <td>D</td>\n",
       "      <td>5</td>\n",
       "      <td>98.880218</td>\n",
       "      <td>10/27/2023 22:00</td>\n",
       "      <td>PayPal</td>\n",
       "      <td>87522 Sharon Corners Suite 500\\nLake Tammy, MO...</td>\n",
       "      <td>Books</td>\n",
       "      <td>6.686337</td>\n",
       "      <td>461.343769</td>\n",
       "    </tr>\n",
       "    <tr>\n",
       "      <th>4</th>\n",
       "      <td>121413</td>\n",
       "      <td>A</td>\n",
       "      <td>7</td>\n",
       "      <td>93.188512</td>\n",
       "      <td>12/22/2023 11:38</td>\n",
       "      <td>Cash</td>\n",
       "      <td>0070 Michelle Island Suite 143\\nHoland, VA 80142</td>\n",
       "      <td>Electronics</td>\n",
       "      <td>4.030096</td>\n",
       "      <td>626.030484</td>\n",
       "    </tr>\n",
       "    <tr>\n",
       "      <th>...</th>\n",
       "      <td>...</td>\n",
       "      <td>...</td>\n",
       "      <td>...</td>\n",
       "      <td>...</td>\n",
       "      <td>...</td>\n",
       "      <td>...</td>\n",
       "      <td>...</td>\n",
       "      <td>...</td>\n",
       "      <td>...</td>\n",
       "      <td>...</td>\n",
       "    </tr>\n",
       "    <tr>\n",
       "      <th>99995</th>\n",
       "      <td>726461</td>\n",
       "      <td>A</td>\n",
       "      <td>2</td>\n",
       "      <td>56.078258</td>\n",
       "      <td>7/17/2023 16:59</td>\n",
       "      <td>Credit Card</td>\n",
       "      <td>3632 Darren Station Apt. 553\\nEricaborough, RI...</td>\n",
       "      <td>Clothing</td>\n",
       "      <td>18.345145</td>\n",
       "      <td>91.581240</td>\n",
       "    </tr>\n",
       "    <tr>\n",
       "      <th>99996</th>\n",
       "      <td>328056</td>\n",
       "      <td>A</td>\n",
       "      <td>6</td>\n",
       "      <td>88.516406</td>\n",
       "      <td>5/30/2023 9:04</td>\n",
       "      <td>Credit Card</td>\n",
       "      <td>821 Taylor Shoals\\nEvansville, IL 70845</td>\n",
       "      <td>Electronics</td>\n",
       "      <td>3.995541</td>\n",
       "      <td>509.878179</td>\n",
       "    </tr>\n",
       "    <tr>\n",
       "      <th>99997</th>\n",
       "      <td>887304</td>\n",
       "      <td>B</td>\n",
       "      <td>4</td>\n",
       "      <td>72.385564</td>\n",
       "      <td>8/25/2023 7:59</td>\n",
       "      <td>Credit Card</td>\n",
       "      <td>50653 Kara Lakes\\nStephanieborough, RI 94492</td>\n",
       "      <td>Clothing</td>\n",
       "      <td>17.423979</td>\n",
       "      <td>239.092472</td>\n",
       "    </tr>\n",
       "    <tr>\n",
       "      <th>99998</th>\n",
       "      <td>326401</td>\n",
       "      <td>C</td>\n",
       "      <td>5</td>\n",
       "      <td>66.542239</td>\n",
       "      <td>2/5/2024 19:45</td>\n",
       "      <td>PayPal</td>\n",
       "      <td>18756 Mcfarland Way Suite 866\\nBarnettside, PR...</td>\n",
       "      <td>Electronics</td>\n",
       "      <td>14.345018</td>\n",
       "      <td>284.983717</td>\n",
       "    </tr>\n",
       "    <tr>\n",
       "      <th>99999</th>\n",
       "      <td>771566</td>\n",
       "      <td>C</td>\n",
       "      <td>5</td>\n",
       "      <td>38.087766</td>\n",
       "      <td>2/4/2024 11:53</td>\n",
       "      <td>Debit Card</td>\n",
       "      <td>8046 Hull Drive\\nPaulstad, GU 87218</td>\n",
       "      <td>Home Decor</td>\n",
       "      <td>2.966058</td>\n",
       "      <td>184.790305</td>\n",
       "    </tr>\n",
       "  </tbody>\n",
       "</table>\n",
       "<p>100000 rows × 10 columns</p>\n",
       "</div>"
      ],
      "text/plain": [
       "       CustomerID ProductID  Quantity      Price   TransactionDate  \\\n",
       "0          109318         C         7  80.079844  12/26/2023 12:32   \n",
       "1          993229         C         4  75.195229     8/5/2023 0:00   \n",
       "2          579675         A         8  31.528816   3/11/2024 18:51   \n",
       "3          799826         D         5  98.880218  10/27/2023 22:00   \n",
       "4          121413         A         7  93.188512  12/22/2023 11:38   \n",
       "...           ...       ...       ...        ...               ...   \n",
       "99995      726461         A         2  56.078258   7/17/2023 16:59   \n",
       "99996      328056         A         6  88.516406    5/30/2023 9:04   \n",
       "99997      887304         B         4  72.385564    8/25/2023 7:59   \n",
       "99998      326401         C         5  66.542239    2/5/2024 19:45   \n",
       "99999      771566         C         5  38.087766    2/4/2024 11:53   \n",
       "\n",
       "      PaymentMethod                                      StoreLocation  \\\n",
       "0              Cash            176 Andrew Cliffs\\nBaileyfort, HI 93354   \n",
       "1              Cash  11635 William Well Suite 809\\nEast Kara, MT 19483   \n",
       "2              Cash  910 Mendez Ville Suite 909\\nPort Lauraland, MO...   \n",
       "3            PayPal  87522 Sharon Corners Suite 500\\nLake Tammy, MO...   \n",
       "4              Cash   0070 Michelle Island Suite 143\\nHoland, VA 80142   \n",
       "...             ...                                                ...   \n",
       "99995   Credit Card  3632 Darren Station Apt. 553\\nEricaborough, RI...   \n",
       "99996   Credit Card            821 Taylor Shoals\\nEvansville, IL 70845   \n",
       "99997   Credit Card       50653 Kara Lakes\\nStephanieborough, RI 94492   \n",
       "99998        PayPal  18756 Mcfarland Way Suite 866\\nBarnettside, PR...   \n",
       "99999    Debit Card                8046 Hull Drive\\nPaulstad, GU 87218   \n",
       "\n",
       "      ProductCategory  DiscountApplied(%)  TotalAmount  \n",
       "0               Books           18.677100   455.862764  \n",
       "1          Home Decor           14.121365   258.306546  \n",
       "2               Books           15.943701   212.015651  \n",
       "3               Books            6.686337   461.343769  \n",
       "4         Electronics            4.030096   626.030484  \n",
       "...               ...                 ...          ...  \n",
       "99995        Clothing           18.345145    91.581240  \n",
       "99996     Electronics            3.995541   509.878179  \n",
       "99997        Clothing           17.423979   239.092472  \n",
       "99998     Electronics           14.345018   284.983717  \n",
       "99999      Home Decor            2.966058   184.790305  \n",
       "\n",
       "[100000 rows x 10 columns]"
      ]
     },
     "metadata": {},
     "output_type": "display_data"
    }
   ],
   "source": [
    "df = pd.read_csv(\"/kaggle/input/retail-transaction-dataset/Retail_Transaction_Dataset.csv\")\n",
    "display(df)"
   ]
  },
  {
   "cell_type": "markdown",
   "id": "30cbf9ea",
   "metadata": {
    "papermill": {
     "duration": 0.002652,
     "end_time": "2025-05-12T09:37:23.932893",
     "exception": false,
     "start_time": "2025-05-12T09:37:23.930241",
     "status": "completed"
    },
    "tags": []
   },
   "source": [
    "### **EDA**\n",
    "---"
   ]
  },
  {
   "cell_type": "code",
   "execution_count": 3,
   "id": "f01e6fbb",
   "metadata": {
    "execution": {
     "iopub.execute_input": "2025-05-12T09:37:23.939842Z",
     "iopub.status.busy": "2025-05-12T09:37:23.939236Z",
     "iopub.status.idle": "2025-05-12T09:37:23.971450Z",
     "shell.execute_reply": "2025-05-12T09:37:23.970678Z"
    },
    "papermill": {
     "duration": 0.037098,
     "end_time": "2025-05-12T09:37:23.972780",
     "exception": false,
     "start_time": "2025-05-12T09:37:23.935682",
     "status": "completed"
    },
    "tags": []
   },
   "outputs": [
    {
     "data": {
      "text/plain": [
       "CustomerID            0\n",
       "ProductID             0\n",
       "Quantity              0\n",
       "Price                 0\n",
       "TransactionDate       0\n",
       "PaymentMethod         0\n",
       "StoreLocation         0\n",
       "ProductCategory       0\n",
       "DiscountApplied(%)    0\n",
       "TotalAmount           0\n",
       "dtype: int64"
      ]
     },
     "execution_count": 3,
     "metadata": {},
     "output_type": "execute_result"
    }
   ],
   "source": [
    "#checking for na values\n",
    "df.isnull().sum(axis = 0)"
   ]
  },
  {
   "cell_type": "code",
   "execution_count": 4,
   "id": "db656173",
   "metadata": {
    "execution": {
     "iopub.execute_input": "2025-05-12T09:37:23.981442Z",
     "iopub.status.busy": "2025-05-12T09:37:23.980908Z",
     "iopub.status.idle": "2025-05-12T09:37:23.987005Z",
     "shell.execute_reply": "2025-05-12T09:37:23.986369Z"
    },
    "papermill": {
     "duration": 0.011088,
     "end_time": "2025-05-12T09:37:23.988225",
     "exception": false,
     "start_time": "2025-05-12T09:37:23.977137",
     "status": "completed"
    },
    "tags": []
   },
   "outputs": [
    {
     "data": {
      "text/plain": [
       "CustomerID              int64\n",
       "ProductID              object\n",
       "Quantity                int64\n",
       "Price                 float64\n",
       "TransactionDate        object\n",
       "PaymentMethod          object\n",
       "StoreLocation          object\n",
       "ProductCategory        object\n",
       "DiscountApplied(%)    float64\n",
       "TotalAmount           float64\n",
       "dtype: object"
      ]
     },
     "execution_count": 4,
     "metadata": {},
     "output_type": "execute_result"
    }
   ],
   "source": [
    "#checking data types\n",
    "df.dtypes"
   ]
  },
  {
   "cell_type": "code",
   "execution_count": 5,
   "id": "1117ad3b",
   "metadata": {
    "execution": {
     "iopub.execute_input": "2025-05-12T09:37:23.995591Z",
     "iopub.status.busy": "2025-05-12T09:37:23.995021Z",
     "iopub.status.idle": "2025-05-12T09:37:24.291627Z",
     "shell.execute_reply": "2025-05-12T09:37:24.290981Z"
    },
    "papermill": {
     "duration": 0.301546,
     "end_time": "2025-05-12T09:37:24.292917",
     "exception": false,
     "start_time": "2025-05-12T09:37:23.991371",
     "status": "completed"
    },
    "tags": []
   },
   "outputs": [],
   "source": [
    "#converting transaction date to datetime format.\n",
    "df[\"TransactionDate\"] = pd.to_datetime(df[\"TransactionDate\"])"
   ]
  },
  {
   "cell_type": "code",
   "execution_count": 6,
   "id": "1f83fc37",
   "metadata": {
    "execution": {
     "iopub.execute_input": "2025-05-12T09:37:24.300660Z",
     "iopub.status.busy": "2025-05-12T09:37:24.300108Z",
     "iopub.status.idle": "2025-05-12T09:37:24.305229Z",
     "shell.execute_reply": "2025-05-12T09:37:24.304581Z"
    },
    "papermill": {
     "duration": 0.010154,
     "end_time": "2025-05-12T09:37:24.306383",
     "exception": false,
     "start_time": "2025-05-12T09:37:24.296229",
     "status": "completed"
    },
    "tags": []
   },
   "outputs": [
    {
     "data": {
      "text/plain": [
       "dtype('<M8[ns]')"
      ]
     },
     "execution_count": 6,
     "metadata": {},
     "output_type": "execute_result"
    }
   ],
   "source": [
    "df[\"TransactionDate\"].dtype"
   ]
  },
  {
   "cell_type": "code",
   "execution_count": 7,
   "id": "32a83343",
   "metadata": {
    "execution": {
     "iopub.execute_input": "2025-05-12T09:37:24.314115Z",
     "iopub.status.busy": "2025-05-12T09:37:24.313532Z",
     "iopub.status.idle": "2025-05-12T09:37:24.319086Z",
     "shell.execute_reply": "2025-05-12T09:37:24.318319Z"
    },
    "papermill": {
     "duration": 0.010677,
     "end_time": "2025-05-12T09:37:24.320356",
     "exception": false,
     "start_time": "2025-05-12T09:37:24.309679",
     "status": "completed"
    },
    "tags": []
   },
   "outputs": [
    {
     "name": "stdout",
     "output_type": "stream",
     "text": [
      "max date: 2024-04-28 22:22:00\n",
      "min date: 2023-04-29 22:27:00\n"
     ]
    }
   ],
   "source": [
    "#checking min and max transaction date\n",
    "print(f\"max date: {df['TransactionDate'].max()}\")\n",
    "print(f\"min date: {df['TransactionDate'].min()}\")"
   ]
  },
  {
   "cell_type": "markdown",
   "id": "dab8eed0",
   "metadata": {
    "papermill": {
     "duration": 0.002972,
     "end_time": "2025-05-12T09:37:24.326645",
     "exception": false,
     "start_time": "2025-05-12T09:37:24.323673",
     "status": "completed"
    },
    "tags": []
   },
   "source": [
    "### **Feature Engineering**\n",
    "---"
   ]
  },
  {
   "cell_type": "markdown",
   "id": "c1f0b09f",
   "metadata": {
    "papermill": {
     "duration": 0.002819,
     "end_time": "2025-05-12T09:37:24.332523",
     "exception": false,
     "start_time": "2025-05-12T09:37:24.329704",
     "status": "completed"
    },
    "tags": []
   },
   "source": [
    "Grouping data for each month for each customer. Features to engineer include:\n",
    "* Previous 2 months average spend\n",
    "* Spend trend over previous 2 months (up or down)\n",
    "* Average quantity of transactions over previous 2 months"
   ]
  },
  {
   "cell_type": "code",
   "execution_count": 8,
   "id": "2c098bab",
   "metadata": {
    "execution": {
     "iopub.execute_input": "2025-05-12T09:37:24.340095Z",
     "iopub.status.busy": "2025-05-12T09:37:24.339368Z",
     "iopub.status.idle": "2025-05-12T09:37:25.167318Z",
     "shell.execute_reply": "2025-05-12T09:37:25.166505Z"
    },
    "papermill": {
     "duration": 0.833099,
     "end_time": "2025-05-12T09:37:25.168611",
     "exception": false,
     "start_time": "2025-05-12T09:37:24.335512",
     "status": "completed"
    },
    "tags": []
   },
   "outputs": [
    {
     "data": {
      "text/plain": [
       "0        12/2023\n",
       "1        08/2023\n",
       "2        03/2024\n",
       "3        10/2023\n",
       "4        12/2023\n",
       "          ...   \n",
       "99995    07/2023\n",
       "99996    05/2023\n",
       "99997    08/2023\n",
       "99998    02/2024\n",
       "99999    02/2024\n",
       "Name: Month_Year, Length: 100000, dtype: object"
      ]
     },
     "metadata": {},
     "output_type": "display_data"
    }
   ],
   "source": [
    "#Grouping all data to month level\n",
    "\n",
    "# creating a month field\n",
    "df['Month_Year'] = (df['TransactionDate'].dt.strftime('%m') + \"/\" + df['TransactionDate'].dt.strftime('%Y'))\n",
    "display(df['Month_Year'])"
   ]
  },
  {
   "cell_type": "code",
   "execution_count": 9,
   "id": "1c41c793",
   "metadata": {
    "execution": {
     "iopub.execute_input": "2025-05-12T09:37:25.176263Z",
     "iopub.status.busy": "2025-05-12T09:37:25.175970Z",
     "iopub.status.idle": "2025-05-12T09:37:25.179414Z",
     "shell.execute_reply": "2025-05-12T09:37:25.178785Z"
    },
    "papermill": {
     "duration": 0.008609,
     "end_time": "2025-05-12T09:37:25.180624",
     "exception": false,
     "start_time": "2025-05-12T09:37:25.172015",
     "status": "completed"
    },
    "tags": []
   },
   "outputs": [],
   "source": [
    "#creating average previous two month spend\n",
    "\n",
    "# creating average previous two month transactions\n",
    "\n",
    "#creating transactions in previous month"
   ]
  },
  {
   "cell_type": "code",
   "execution_count": 10,
   "id": "6348eb32",
   "metadata": {
    "execution": {
     "iopub.execute_input": "2025-05-12T09:37:25.188505Z",
     "iopub.status.busy": "2025-05-12T09:37:25.187800Z",
     "iopub.status.idle": "2025-05-12T09:37:25.191086Z",
     "shell.execute_reply": "2025-05-12T09:37:25.190503Z"
    },
    "papermill": {
     "duration": 0.008363,
     "end_time": "2025-05-12T09:37:25.192320",
     "exception": false,
     "start_time": "2025-05-12T09:37:25.183957",
     "status": "completed"
    },
    "tags": []
   },
   "outputs": [],
   "source": [
    "#creating spend trend\n",
    "\n",
    "#creating transactions trend"
   ]
  }
 ],
 "metadata": {
  "kaggle": {
   "accelerator": "none",
   "dataSources": [
    {
     "datasetId": 4916971,
     "sourceId": 8279739,
     "sourceType": "datasetVersion"
    }
   ],
   "dockerImageVersionId": 31012,
   "isGpuEnabled": false,
   "isInternetEnabled": true,
   "language": "python",
   "sourceType": "notebook"
  },
  "kernelspec": {
   "display_name": "Python 3",
   "language": "python",
   "name": "python3"
  },
  "language_info": {
   "codemirror_mode": {
    "name": "ipython",
    "version": 3
   },
   "file_extension": ".py",
   "mimetype": "text/x-python",
   "name": "python",
   "nbconvert_exporter": "python",
   "pygments_lexer": "ipython3",
   "version": "3.11.11"
  },
  "papermill": {
   "default_parameters": {},
   "duration": 16.22918,
   "end_time": "2025-05-12T09:37:26.115359",
   "environment_variables": {},
   "exception": null,
   "input_path": "__notebook__.ipynb",
   "output_path": "__notebook__.ipynb",
   "parameters": {},
   "start_time": "2025-05-12T09:37:09.886179",
   "version": "2.6.0"
  }
 },
 "nbformat": 4,
 "nbformat_minor": 5
}
